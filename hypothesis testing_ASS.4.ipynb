{
 "cells": [
  {
   "cell_type": "markdown",
   "id": "adf9232a-1698-416f-b389-22007b7f26f7",
   "metadata": {},
   "source": [
    "## HYPOTHESIS TESTING ##"
   ]
  },
  {
   "cell_type": "code",
   "execution_count": 6,
   "id": "a135624f-68ed-4503-9cfe-7b76e872b25a",
   "metadata": {},
   "outputs": [],
   "source": [
    "import pandas as pd\n",
    "import numpy as np"
   ]
  },
  {
   "cell_type": "code",
   "execution_count": 7,
   "id": "dc6b4adb-41cd-4163-ae57-a0b4ce5af1dd",
   "metadata": {},
   "outputs": [],
   "source": [
    "from scipy.stats import norm"
   ]
  },
  {
   "cell_type": "code",
   "execution_count": null,
   "id": "6d48f79c-bddc-4dc5-9112-8e541b9f97ae",
   "metadata": {},
   "outputs": [],
   "source": [
    "### caluculate"
   ]
  },
  {
   "cell_type": "code",
   "execution_count": 9,
   "id": "53bf52fb-907a-46b2-9979-e4563ce05cff",
   "metadata": {},
   "outputs": [],
   "source": [
    "### calculate the test statistic ###\n",
    "sample_mean =3050\n",
    "population_mean =4000\n",
    "population_std_dev =5*25\n",
    "sample_size =25"
   ]
  },
  {
   "cell_type": "code",
   "execution_count": 10,
   "id": "074f0830-26fc-49b9-94e2-b78fc0d1c459",
   "metadata": {},
   "outputs": [],
   "source": [
    "standard_error =population_std_dev/(sample_size**0.5)"
   ]
  },
  {
   "cell_type": "code",
   "execution_count": 12,
   "id": "0e50b319-2c4c-4b70-9e33-5020f93268b9",
   "metadata": {},
   "outputs": [],
   "source": [
    "### z_score =(sample_mean-population_mean)/standard_error\n",
    "p_value =1 - norm.cdf(z_score)"
   ]
  },
  {
   "cell_type": "code",
   "execution_count": 14,
   "id": "5bfe2eea-17de-4763-add0-71959477ffb6",
   "metadata": {},
   "outputs": [
    {
     "name": "stdout",
     "output_type": "stream",
     "text": [
      "z_score:-38.000000\n",
      "p_value:1.000000\n"
     ]
    }
   ],
   "source": [
    "print(f\"z_score:{z_score:-4f}\")\n",
    "print(f\"p_value:{p_value:-4f}\")"
   ]
  },
  {
   "cell_type": "markdown",
   "id": "61f134c6-f31c-4aaf-8657-7cdd8cc3ccd6",
   "metadata": {},
   "source": [
    "### CONCLUSION ##"
   ]
  },
  {
   "cell_type": "code",
   "execution_count": 15,
   "id": "f35bae67-ab45-4d44-bab1-5cf89c085bb7",
   "metadata": {},
   "outputs": [
    {
     "name": "stdout",
     "output_type": "stream",
     "text": [
      "H1 is rejected and H0 is accepted\n"
     ]
    }
   ],
   "source": [
    "alpha =0.05\n",
    "if p_value < alpha:\n",
    "    print(\"H0 is rejected and H1 is accepted\")\n",
    "else:\n",
    "    print(\"H1 is rejected and H0 is accepted\")"
   ]
  },
  {
   "cell_type": "code",
   "execution_count": 16,
   "id": "cd70f825-a6da-4cdf-93d9-5a7ac6b1c0b2",
   "metadata": {},
   "outputs": [
    {
     "name": "stdout",
     "output_type": "stream",
     "text": [
      "H1 is rejected and H0 is accepted\n"
     ]
    }
   ],
   "source": [
    "\n",
    "if p_value > alpha:\n",
    "        print(\"H1 is rejected and H0 is accepted\")\n",
    "else:\n",
    "    print(\"H0 is rejected and H1 is accepted\")\n",
    "    "
   ]
  },
  {
   "cell_type": "code",
   "execution_count": null,
   "id": "8dadc95a-a7c2-4c11-a7ff-73a05cbb51f7",
   "metadata": {},
   "outputs": [],
   "source": []
  }
 ],
 "metadata": {
  "kernelspec": {
   "display_name": "Python 3 (ipykernel)",
   "language": "python",
   "name": "python3"
  },
  "language_info": {
   "codemirror_mode": {
    "name": "ipython",
    "version": 3
   },
   "file_extension": ".py",
   "mimetype": "text/x-python",
   "name": "python",
   "nbconvert_exporter": "python",
   "pygments_lexer": "ipython3",
   "version": "3.13.5"
  }
 },
 "nbformat": 4,
 "nbformat_minor": 5
}
