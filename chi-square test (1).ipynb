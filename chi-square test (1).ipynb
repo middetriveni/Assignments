{
 "cells": [
  {
   "cell_type": "markdown",
   "id": "4192891d-10f3-4c89-a601-3adbb471a5b6",
   "metadata": {},
   "source": [
    "## CHI-SQUARE TEST ###"
   ]
  },
  {
   "cell_type": "code",
   "execution_count": 2,
   "id": "76f53fe6-b774-4f3a-aa25-b54ffd0f5d80",
   "metadata": {},
   "outputs": [],
   "source": [
    "import numpy as np\n",
    "import pandas as pd"
   ]
  },
  {
   "cell_type": "code",
   "execution_count": 3,
   "id": "fbb2c354-bff8-4550-88cd-add6d8795954",
   "metadata": {},
   "outputs": [],
   "source": [
    "from scipy.stats import chi2_contingency,chi2\n",
    "df =np.array([\n",
    "    [50,70],\n",
    "    [80,100],\n",
    "    [60,90],\n",
    "    [30,50],\n",
    "    [20,50]])"
   ]
  },
  {
   "cell_type": "code",
   "execution_count": 4,
   "id": "a14a84af-a6e7-4c82-a92a-bb273789ff39",
   "metadata": {},
   "outputs": [],
   "source": [
    "chi2, p_value, dof, expected =chi2_contingency(df)"
   ]
  },
  {
   "cell_type": "code",
   "execution_count": 5,
   "id": "89f45d91-82cd-4641-998c-18d0b36975cb",
   "metadata": {},
   "outputs": [
    {
     "name": "stdout",
     "output_type": "stream",
     "text": [
      "chi2-square statistic: 5.638227513227513\n",
      "degree of freedom: 4\n",
      "p_value: 0.22784371130697179\n",
      "\n",
      "expected frequencies:\n",
      " [[ 48.  72.]\n",
      " [ 72. 108.]\n",
      " [ 60.  90.]\n",
      " [ 32.  48.]\n",
      " [ 28.  42.]]\n"
     ]
    }
   ],
   "source": [
    "print(\"chi2-square statistic:\",chi2)\n",
    "print(\"degree of freedom:\",dof)\n",
    "print(\"p_value:\",p_value)\n",
    "print(\"\\nexpected frequencies:\\n\",expected)"
   ]
  },
  {
   "cell_type": "code",
   "execution_count": 6,
   "id": "336cb743-921d-43ba-97b7-7b4e66c3713f",
   "metadata": {},
   "outputs": [
    {
     "name": "stdout",
     "output_type": "stream",
     "text": [
      "H1 is rejected and H0 is accepted\n"
     ]
    }
   ],
   "source": [
    "p_value = 0.227\n",
    "alpha = 0.05\n",
    "if p_value < alpha:\n",
    "    print(\"H0 is rejected and H1 is accepted\")\n",
    "else:\n",
    "    \n",
    "    print(\"H1 is rejected and H0 is accepted\")"
   ]
  },
  {
   "cell_type": "code",
   "execution_count": 9,
   "id": "c4a7685e-a5b0-46cb-9fa2-74f37296dc00",
   "metadata": {},
   "outputs": [
    {
     "name": "stdout",
     "output_type": "stream",
     "text": [
      "chi2-square statistic: 5.638227513227513\n",
      "degree of freedom: 4\n",
      "critical value: 0.05\n",
      "significance level:\n",
      "p_value: 0.227\n",
      "\n",
      "expected frequencies:\n",
      " [[ 48.  72.]\n",
      " [ 72. 108.]\n",
      " [ 60.  90.]\n",
      " [ 32.  48.]\n",
      " [ 28.  42.]]\n"
     ]
    }
   ],
   "source": [
    "print(\"chi2-square statistic:\",chi2)\n",
    "print(\"degree of freedom:\",dof)\n",
    "print(\"critical value:\",0.05)\n",
    "print(\"significance level:\")\n",
    "print(\"p_value:\",p_value)\n",
    "print(\"\\nexpected frequencies:\\n\",expected)"
   ]
  },
  {
   "cell_type": "code",
   "execution_count": null,
   "id": "c1f1cc41-cb9e-4582-9792-d8b54b8050a9",
   "metadata": {},
   "outputs": [],
   "source": [
    "p_value = 0.227\n",
    "alpha = 0.05\n",
    "if p_value < alpha:\n",
    "    print(\"H0 is rejected and H1 is accepted\")\n",
    "else:\n",
    "    \n",
    "    print(\"H1 is rejected and H0 is accepted\")\n"
   ]
  }
 ],
 "metadata": {
  "kernelspec": {
   "display_name": "Python 3 (ipykernel)",
   "language": "python",
   "name": "python3"
  },
  "language_info": {
   "codemirror_mode": {
    "name": "ipython",
    "version": 3
   },
   "file_extension": ".py",
   "mimetype": "text/x-python",
   "name": "python",
   "nbconvert_exporter": "python",
   "pygments_lexer": "ipython3",
   "version": "3.13.5"
  }
 },
 "nbformat": 4,
 "nbformat_minor": 5
}
