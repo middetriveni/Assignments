{
 "cells": [
  {
   "cell_type": "markdown",
   "id": "a0c32a72-bae9-472e-95ce-ceee5965f333",
   "metadata": {},
   "source": [
    "## BASIC PYTHON ##"
   ]
  },
  {
   "cell_type": "code",
   "execution_count": 1,
   "id": "4742d10d-75c3-48a7-bc7a-f4a23f324a62",
   "metadata": {},
   "outputs": [],
   "source": [
    "import pandas as pd\n",
    "import numpy as np\n",
    "import mat"
   ]
  },
  {
   "cell_type": "markdown",
   "id": "5f7798a6-67b4-40e6-a00e-49a0ca328f92",
   "metadata": {},
   "source": [
    "#### prime numbers ####"
   ]
  },
  {
   "cell_type": "code",
   "execution_count": null,
   "id": "32a6a9eb-74e6-4be3-addb-05fff2229722",
   "metadata": {},
   "outputs": [],
   "source": [
    "def is_Prime(num):\n",
    "    if num <= 1:\n",
    "        return False\n",
    "        for i in range(2, int(num ** 0.5) + 1):\n",
    "             if num % i == 0:\n",
    "                return False\n",
    "        return True \n",
    "num = int(input(\"Enter a number:\"))\n",
    "if is_Prime(num):\n",
    "    print(num,\"is a prime number.\")\n",
    "else:\n",
    "     print(num,\"is not a prime number.\")\n",
    "            "
   ]
  },
  {
   "cell_type": "markdown",
   "id": "a8b769e8-d64a-4309-aa79-1f38123c9d5c",
   "metadata": {},
   "source": [
    "### product of random numbers ###"
   ]
  },
  {
   "cell_type": "code",
   "execution_count": null,
   "id": "abd014cb-c869-4174-a651-16bcb5c16ad2",
   "metadata": {},
   "outputs": [],
   "source": [
    "import random\n",
    "num1= random.randint(1,20)\n",
    "num2= random.randint(1,20)\n",
    "print(\"the first number is,num1\")\n",
    "print(\"the second number is, num2\")\n"
   ]
  },
  {
   "cell_type": "code",
   "execution_count": null,
   "id": "155e8ff5-c295-4760-85d2-3a89f34dfa3c",
   "metadata": {},
   "outputs": [],
   "source": [
    "correct_product=num1*num2"
   ]
  },
  {
   "cell_type": "code",
   "execution_count": null,
   "id": "e7f199f1-b3f9-4ea0-8486-88149afc1900",
   "metadata": {},
   "outputs": [],
   "source": [
    "if 'user_answer'==correct_product:\n",
    "    print(\"correct!\")\n",
    "else:\n",
    "    print(f\"incorrect.the correct answeris{correct_product}\")"
   ]
  },
  {
   "cell_type": "markdown",
   "id": "0e758940-7ac6-45c5-a58d-b33679c9cbc8",
   "metadata": {},
   "source": [
    "#### squares of even/odd numbers(from 100 to200) ####"
   ]
  },
  {
   "cell_type": "markdown",
   "id": "94d9c958-19df-4762-86ee-a89852f2f12c",
   "metadata": {},
   "source": [
    "##### squares of even numbers ####"
   ]
  },
  {
   "cell_type": "code",
   "execution_count": null,
   "id": "147f1cd5-de1b-42ac-bc8b-44f521fd64a4",
   "metadata": {},
   "outputs": [],
   "source": [
    "print(\"squares of even num between 100 and 200:\")\n",
    "for num in range(100,201):\n",
    "    if num % 2==0:\n",
    "        print(f\"{num}^2 ={num **2}\")"
   ]
  },
  {
   "cell_type": "markdown",
   "id": "207d97a8-04d9-4a7e-b086-22877400cae3",
   "metadata": {},
   "source": [
    "#### odd numbers ###"
   ]
  },
  {
   "cell_type": "code",
   "execution_count": null,
   "id": "be0f6482-9b04-4c1c-885f-02b1c72d9f62",
   "metadata": {},
   "outputs": [],
   "source": [
    "print(\"squres of odd numbers between 100 and 200:\")\n",
    "for num in range (100,201):\n",
    "    if num % 2 !=0:\n",
    "        print(f\"{num}^2 ={num ** 2}\")"
   ]
  },
  {
   "cell_type": "markdown",
   "id": "7458872c-979a-4c7a-baf0-515674221f6c",
   "metadata": {},
   "source": [
    "#### WORD COUNTER ###"
   ]
  },
  {
   "cell_type": "code",
   "execution_count": 5,
   "id": "7b0e28f3-ae5c-4eea-9a3d-5bf1be43ec2a",
   "metadata": {},
   "outputs": [],
   "source": [
    "df =\"this is a sample text. this text wii be used to demonsrate the word counter.\""
   ]
  },
  {
   "cell_type": "code",
   "execution_count": 6,
   "id": "f753d68e-f364-4dba-8fdf-a46f7b0247e1",
   "metadata": {},
   "outputs": [],
   "source": [
    "import string\n",
    "df = df.translate(str.maketrans('','',string.punctuation))"
   ]
  },
  {
   "cell_type": "code",
   "execution_count": 7,
   "id": "29520bf7-2791-469f-b38b-d74fddc94518",
   "metadata": {},
   "outputs": [],
   "source": [
    "words = df.split()\n",
    "word_count = {}\n",
    "for word in words:\n",
    "    word_count[word] = word_count.get(word, 0) +1"
   ]
  },
  {
   "cell_type": "code",
   "execution_count": 8,
   "id": "89418698-9ab7-40d0-9ec7-c242fbdb30da",
   "metadata": {},
   "outputs": [
    {
     "name": "stdout",
     "output_type": "stream",
     "text": [
      "this':2\n",
      "is':1\n",
      "a':1\n",
      "sample':1\n",
      "text':2\n",
      "wii':1\n",
      "be':1\n",
      "used':1\n",
      "to':1\n",
      "demonsrate':1\n",
      "the':1\n",
      "word':1\n",
      "counter':1\n"
     ]
    }
   ],
   "source": [
    "for word,count in word_count.items():\n",
    "    print(f\"{word}':{count}\")"
   ]
  },
  {
   "cell_type": "markdown",
   "id": "e9333323-4b99-41c7-85d4-9150f09ca71d",
   "metadata": {},
   "source": [
    "#### check for palindrome ###"
   ]
  },
  {
   "cell_type": "code",
   "execution_count": 5,
   "id": "7afe7118-9df4-45dc-b2f5-dcb087f09aa3",
   "metadata": {},
   "outputs": [
    {
     "name": "stdout",
     "output_type": "stream",
     "text": [
      "True\n",
      "False\n",
      "True\n"
     ]
    }
   ],
   "source": [
    "def is_palindrome(text):\n",
    "  cleaned_text = \"\".join(c for c in text.lower() if c.isalnum())\n",
    "  return cleaned_text == cleaned_text[::-1]\n",
    "\n",
    "print(is_palindrome(\"racecar\"))\n",
    "print(is_palindrome(\"A man, a plan, a canal: venu\"))\n",
    "print(is_palindrome(\"madam\"))"
   ]
  },
  {
   "cell_type": "code",
   "execution_count": null,
   "id": "f9a14fc6-c4c8-4581-98bd-7e907c0d4e46",
   "metadata": {},
   "outputs": [],
   "source": []
  }
 ],
 "metadata": {
  "kernelspec": {
   "display_name": "Python 3 (ipykernel)",
   "language": "python",
   "name": "python3"
  },
  "language_info": {
   "codemirror_mode": {
    "name": "ipython",
    "version": 3
   },
   "file_extension": ".py",
   "mimetype": "text/x-python",
   "name": "python",
   "nbconvert_exporter": "python",
   "pygments_lexer": "ipython3",
   "version": "3.13.5"
  }
 },
 "nbformat": 4,
 "nbformat_minor": 5
}
