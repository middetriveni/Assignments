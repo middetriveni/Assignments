{
 "cells": [
  {
   "cell_type": "code",
   "execution_count": 1,
   "id": "6cce4fea-fa62-4e43-a505-bafec5d7058f",
   "metadata": {},
   "outputs": [],
   "source": [
    "import pandas as pd \n",
    "import numpy as np\n",
    "import scipy.stats as stats"
   ]
  },
  {
   "cell_type": "code",
   "execution_count": 2,
   "id": "0ef1162a-f872-4438-b621-6aef08d4ee0a",
   "metadata": {},
   "outputs": [],
   "source": [
    "df=[1.13,1.55,1.43,0.92,1.25,1.36,0.85,1.07,1.48,1.20,1.33,1.18,1.22,1.29]"
   ]
  },
  {
   "cell_type": "code",
   "execution_count": 3,
   "id": "459d82e1-8037-42f8-93ef-b07f89f56eae",
   "metadata": {},
   "outputs": [
    {
     "name": "stdout",
     "output_type": "stream",
     "text": [
      "confidence interval:(1.072575754542236,1.072575754542236\n",
      "mean durability:1.232857millon charaters\n",
      "standard error:0.199091millon charaters\n",
      "confidence interval:(np.float64(1.072575754542236), np.float64(1.072575754542236))\n"
     ]
    }
   ],
   "source": [
    "mean =np.mean(df)\n",
    "std_dev=np.std(df,ddof=1)\n",
    "n =len(df)\n",
    "alpha =0.01\n",
    "t_critical=stats.t.ppf(1-alpha/2,n-1)\n",
    "lower_bound=mean-t_critical*(std_dev/np.sqrt(n))\n",
    "upper_bound=mean-t_critical*(std_dev/np.sqrt(n))\n",
    "print(f\"confidence interval:({lower_bound},{upper_bound}\")\n",
    "confidence_interval=(lower_bound,upper_bound)\n",
    "print(f\"mean durability:{mean :2f}millon charaters\")\n",
    "print(f\"standard error:{std_dev :2f}millon charaters\")\n",
    "print(f\"confidence interval:{confidence_interval}\")\n",
    "                             "
   ]
  },
  {
   "cell_type": "code",
   "execution_count": 20,
   "id": "b77b2338-9698-40f7-be22-f7a522939ea0",
   "metadata": {},
   "outputs": [],
   "source": [
    "sigma =0.28\n",
    "sample_size =38\n",
    "confidence_level =0.10\n",
    "sample_mean =1.9\n",
    "population_mean =2.5"
   ]
  },
  {
   "cell_type": "code",
   "execution_count": 21,
   "id": "40308ab5-be52-47f2-b755-08253491e6f6",
   "metadata": {},
   "outputs": [
    {
     "name": "stdout",
     "output_type": "stream",
     "text": [
      "z_score:-13.209458577790663\n"
     ]
    }
   ],
   "source": [
    "z_score =(sample_mean-population_mean)/(sigma/np.sqrt(sample_size))\n",
    "print(f\"z_score:{z_score}\")"
   ]
  },
  {
   "cell_type": "markdown",
   "id": "77a7e4b8-63d6-41e1-a533-645e71837acc",
   "metadata": {},
   "source": [
    "#### double-click(or enter ) to edit ####"
   ]
  },
  {
   "cell_type": "code",
   "execution_count": 23,
   "id": "503d6944-9d06-4975-9706-c0185d9b6eed",
   "metadata": {},
   "outputs": [
    {
     "name": "stdout",
     "output_type": "stream",
     "text": [
      "standard error:0.04542199791661352\n"
     ]
    }
   ],
   "source": [
    "standard_error =sigma/np.sqrt(sample_size)\n",
    "print(f\"standard error:{standard_error}\")\n"
   ]
  },
  {
   "cell_type": "code",
   "execution_count": 24,
   "id": "2df345cc-b77b-4b71-b3af-679aa031ee8c",
   "metadata": {},
   "outputs": [
    {
     "name": "stdout",
     "output_type": "stream",
     "text": [
      "margine of error:0.07471253801652396\n"
     ]
    }
   ],
   "source": [
    "margine_of_error =stats.norm.ppf(1-confidence_level/2)*standard_error\n",
    "print(f\"margine of error:{margine_of_error}\")"
   ]
  },
  {
   "cell_type": "code",
   "execution_count": 25,
   "id": "de5d0136-8ed7-4b75-84b3-e32c27c7b04e",
   "metadata": {},
   "outputs": [
    {
     "name": "stdout",
     "output_type": "stream",
     "text": [
      "confidence interval:(np.float64(1.825287461983476), np.float64(1.9747125380165238))\n"
     ]
    }
   ],
   "source": [
    "confidence_interval =(sample_mean-margine_of_error,sample_mean+margine_of_error)\n",
    "print(f\"confidence interval:{confidence_interval}\")"
   ]
  },
  {
   "cell_type": "code",
   "execution_count": 26,
   "id": "f18a662f-d7c7-4872-b10f-58b75b508357",
   "metadata": {},
   "outputs": [
    {
     "name": "stdout",
     "output_type": "stream",
     "text": [
      "99% confidence interval:1.825287\n"
     ]
    }
   ],
   "source": [
    "print(f\"99% confidence interval:{confidence_interval[0]:4f}\")"
   ]
  },
  {
   "cell_type": "code",
   "execution_count": 27,
   "id": "deff0af8-01f2-4ecc-a96c-a56c3a8c72bd",
   "metadata": {},
   "outputs": [
    {
     "name": "stdout",
     "output_type": "stream",
     "text": [
      "99% confidence interval:1.825287\n"
     ]
    }
   ],
   "source": [
    "\n",
    "sigma =0.28\n",
    "sample_size =38\n",
    "confidence_level =0.10\n",
    "sample_mean =1.9\n",
    "population_mean =2.5\n",
    "standard_error =sigma/np.sqrt(sample_size)\n",
    "margine_of_error =stats.norm.ppf(1-confidence_level/2)*standard_error\n",
    "confidence_interval =(sample_mean-margine_of_error,sample_mean+margine_of_error)\n",
    "print(f\"99% confidence interval:{confidence_interval[0]:4f}\")"
   ]
  },
  {
   "cell_type": "code",
   "execution_count": 30,
   "id": "b5d4195c-78aa-4291-b812-c263a5e269a1",
   "metadata": {},
   "outputs": [
    {
     "name": "stdout",
     "output_type": "stream",
     "text": [
      "99% confidence interval:1.825287\n"
     ]
    }
   ],
   "source": [
    "import numpy as np\n",
    "import scipy.stats as stats\n",
    "\n",
    "sigma =0.28\n",
    "sample_size =38\n",
    "confidence_level =0.10\n",
    "sample_mean =1.9\n",
    "population_mean =2.5\n",
    "standard_error =sigma/np.sqrt(sample_size)\n",
    "margine_of_error =stats.norm.ppf(1-confidence_level/2)*standard_error\n",
    "confidence_interval =(sample_mean-margine_of_error,sample_mean+margine_of_error)\n",
    "print(f\"99% confidence interval:{confidence_interval[0]:4f}\")"
   ]
  },
  {
   "cell_type": "code",
   "execution_count": null,
   "id": "e60ea0be-da8f-4eae-9185-d5cc3c9d8807",
   "metadata": {},
   "outputs": [],
   "source": []
  }
 ],
 "metadata": {
  "kernelspec": {
   "display_name": "Python 3 (ipykernel)",
   "language": "python",
   "name": "python3"
  },
  "language_info": {
   "codemirror_mode": {
    "name": "ipython",
    "version": 3
   },
   "file_extension": ".py",
   "mimetype": "text/x-python",
   "name": "python",
   "nbconvert_exporter": "python",
   "pygments_lexer": "ipython3",
   "version": "3.13.5"
  }
 },
 "nbformat": 4,
 "nbformat_minor": 5
}
